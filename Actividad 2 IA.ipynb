import heapq  # Importamos el módulo heapq para utilizar colas de prioridad.

# Definimos la base de conocimiento que representa las conexiones entre las estaciones y sus respectivos costos.
base_conocimiento = {
    'Estacion_A': {'Estacion_B': 10, 'Estacion_C': 15},
    'Estacion_B': {'Estacion_D': 20},
    'Estacion_C': {'Estacion_D': 25},
    'Estacion_D': {'Estacion_E': 30},
    'Estacion_E': {}
}

# Implementación del algoritmo A*
def encontrar_ruta(origen, destino):
    frontera = [(0, origen)]  # Inicializamos la frontera como una cola de prioridad con el nodo origen y su costo 0.
    visitados = set()  # Creamos un conjunto para almacenar los nodos visitados.
    padres = {}  # Creamos un diccionario para almacenar los nodos predecesores en la ruta óptima.
    costos = {estacion: float('inf') for estacion in base_conocimiento}  # Inicializamos los costos como infinito para todas las estaciones.
    costos[origen] = 0  # El costo del nodo de origen es 0.

    while frontera:  # Mientras la frontera no esté vacía:
        costo_actual, estacion_actual = heapq.heappop(frontera)  # Sacamos de la frontera el nodo con el menor costo.

        if estacion_actual == destino:  # Si hemos llegado al destino:
            ruta = []  # Inicializamos una lista para almacenar la ruta óptima.
            while estacion_actual in padres:  # Recorremos los nodos predecesores desde el destino hasta el origen.
                ruta.insert(0, estacion_actual)  # Insertamos cada nodo en la ruta.
                estacion_actual = padres[estacion_actual]  # Actualizamos el nodo actual al predecesor.
            ruta.insert(0, origen)  # Insertamos el nodo de origen al principio de la ruta.
            return ruta  # Devolvemos la ruta óptima.

        visitados.add(estacion_actual)  # Agregamos el nodo actual a los nodos visitados.

        # Exploramos los vecinos del nodo actual.
        for vecino, costo in base_conocimiento[estacion_actual].items():
            nuevo_costo = costo_actual + costo  # Calculamos el nuevo costo acumulado.
            if nuevo_costo < costos[vecino] and vecino not in visitados:  # Si encontramos un nuevo camino más corto:
                costos[vecino] = nuevo_costo  # Actualizamos el costo acumulado.
                heapq.heappush(frontera, (nuevo_costo, vecino))  # Agregamos el vecino a la frontera.
                padres[vecino] = estacion_actual  # Actualizamos el predecesor del vecino en la ruta.

    return None  # Si no se encuentra una ruta válida, devolvemos None.

# Punto de entrada del programa
if __name__ == "__main__":
    punto_inicio = 'Estacion_A'  # Definimos el punto de inicio.
    punto_destino = 'Estacion_E'  # Definimos el punto de destino.

    # Llamamos a la función encontrar_ruta para encontrar la mejor ruta entre el punto de inicio y el destino.
    mejor_ruta = encontrar_ruta(punto_inicio, punto_destino)

    if mejor_ruta:  # Si se encontró una ruta válida:
        print("La mejor ruta es:", mejor_ruta)  # Imprimimos la mejor ruta.
    else:  # Si no se encontró una ruta válida:
        print("No se encontró una ruta válida entre el punto de inicio y el destino.")  # Imprimimos un mensaje de error.
